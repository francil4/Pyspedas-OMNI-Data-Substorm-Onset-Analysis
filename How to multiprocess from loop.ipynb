{
 "cells": [
  {
   "cell_type": "code",
   "execution_count": 1,
   "id": "9f7657ed-508d-4003-ac90-ff22021f0fbd",
   "metadata": {},
   "outputs": [
    {
     "name": "stdout",
     "output_type": "stream",
     "text": [
      "[2, 2, 5, 28, 257, 3126, 46657, 823544, 16777217, 387420490]\n",
      "<class 'list'>\n",
      "3.3729193210601807 seconds to complete\n",
      "[2, 2, 5, 28, 257, 3126, 46657, 823544, 16777217, 387420490]\n",
      "<class 'list'>\n",
      "0.7833998203277588 seconds to complete\n"
     ]
    }
   ],
   "source": [
    "# Official guide to for loop into a multiprocess task, take this simple case of a for loop:\n",
    "import time\n",
    "from multiprocessing import Pool\n",
    "\n",
    "calculations=10000 # Change this value if it's taking too long or too quickly\n",
    "\n",
    "starttime=time.time()\n",
    "newlist=[]\n",
    "for i in range(calculations):\n",
    "    newlist.append(1+i**i)\n",
    "print(newlist[0:10])\n",
    "print(type(newlist))\n",
    "print(time.time()-starttime,'seconds to complete')\n",
    "\n",
    "# Converting to a faster multiprocess\n",
    "starttime=time.time()\n",
    "newlist=[] # It is possible to make these the same name to avoid confusion\n",
    "def task(arg): # I like using arg instead of i since sometimes there could be loops inside of this task\n",
    "    list=(1+arg**arg) # Equation goes here, normally would be newlist.append(equation) in a regular loop as above\n",
    "    return list\n",
    "if __name__=='__main__':\n",
    "    with Pool() as pool:\n",
    "        for result in pool.map(task,range(calculations)): # Range of inputs go here\n",
    "            newlist.append(result)\n",
    "print(newlist[0:10])\n",
    "print(type(newlist))\n",
    "print(time.time()-starttime,'seconds to complete')\n",
    "newlist=[] # Sometimes it is a good idea to clear the old parameters in a file after it is used, in order to prevent RAM overflow, this has happened to my PC on several occasions\n",
    "\n",
    "# Note that the time below should be faster, but there are some cases where the time can actually be slower to run a depending on the situation, compare each situation directly"
   ]
  },
  {
   "cell_type": "code",
   "execution_count": 5,
   "id": "37ee334f-c786-4189-b627-6f2f87ced6a5",
   "metadata": {},
   "outputs": [
    {
     "name": "stdout",
     "output_type": "stream",
     "text": [
      "[[2, 1, 1], [2, 2, 2], [2, 3, 5], [2, 4, 10], [2, 5, 17]] ...\n",
      "[2, 1, 1, 2, 2, 2, 2, 3, 5, 2, 4, 10, 2, 5, 17] ...\n"
     ]
    }
   ],
   "source": [
    "# In the case of involving an internal loop inside the multitask, it is a good idea to use the function below\n",
    "newlist=[]\n",
    "def task(arg):\n",
    "    list=[] # The list inside the task must be defined\n",
    "    for i in range(3):\n",
    "        list.append(1+arg**i) # Need to use .append() here instead of =\n",
    "    return list\n",
    "if __name__=='__main__':\n",
    "    with Pool() as pool:\n",
    "        for result in pool.map(task,range(calculations)):\n",
    "            newlist.append(result)\n",
    "print(newlist[0:5],'...')\n",
    "def flatten(nestedlist): # This is the magic function that gets the inner lists into a readable single list that can be converted into an array\n",
    "    listoflists=[]\n",
    "    for i in nestedlist:\n",
    "        listoflists.extend(i)\n",
    "    return listoflists\n",
    "newlist=flatten(newlist)\n",
    "print(newlist[0:15],'...')"
   ]
  }
 ],
 "metadata": {
  "kernelspec": {
   "display_name": "Python 3 (ipykernel)",
   "language": "python",
   "name": "python3"
  },
  "language_info": {
   "codemirror_mode": {
    "name": "ipython",
    "version": 3
   },
   "file_extension": ".py",
   "mimetype": "text/x-python",
   "name": "python",
   "nbconvert_exporter": "python",
   "pygments_lexer": "ipython3",
   "version": "3.10.12"
  }
 },
 "nbformat": 4,
 "nbformat_minor": 5
}
