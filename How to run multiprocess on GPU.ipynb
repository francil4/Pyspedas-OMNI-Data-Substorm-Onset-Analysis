{
 "cells": [
  {
   "cell_type": "code",
   "execution_count": 1,
   "id": "095cf87e-7bc7-4e56-8cd6-a10e5d7bb032",
   "metadata": {},
   "outputs": [
    {
     "name": "stderr",
     "output_type": "stream",
     "text": [
      "/usr/lib/python3/dist-packages/scipy/__init__.py:146: UserWarning: A NumPy version >=1.17.3 and <1.25.0 is required for this version of SciPy (detected version 1.26.2\n",
      "  warnings.warn(f\"A NumPy version >={np_minversion} and <{np_maxversion}\"\n"
     ]
    },
    {
     "name": "stdout",
     "output_type": "stream",
     "text": [
      "[2, 2, 5, 28, 257, 3126, 46657, 823544, 16777217, 387420490]\n",
      "<class 'list'>\n",
      "13.496386051177979 seconds to complete\n",
      "[2, 2, 5, 28, 257, 3126, 46657, 823544, 16777217, 387420490]\n",
      "<class 'list'>\n",
      "1.0641875267028809 seconds to complete\n",
      "[2, 2, 5, 28, 257, 3126, 46657, 823544, 16777217, 387420490]\n",
      "<class 'list'>\n",
      "0.8192744255065918 seconds to complete\n",
      "[2, 2, 5, 28, 257, 3126, 46657, 823544, 16777217, 387420490]\n",
      "<class 'list'>\n",
      "0.8603920936584473 seconds to complete\n"
     ]
    }
   ],
   "source": [
    "# Note the only change for each is just a single additional import and a single line of code\n",
    "# !!!WARNING!!! This is experimental! For some reason, if there are too many values, it takes up the entirety of the RAM and crashes computer... !!!WARNING!!!\n",
    "# If required, run in terminal: pip install --upgrade & pip install numba --upgrade\n",
    "import time\n",
    "from multiprocessing import Pool\n",
    "from numba import jit,cuda,njit # The import is required for the 2nd and 4th parts\n",
    "import numba # Also is required separately for the 3rd part\n",
    "\n",
    "calculations=30000 # Change this value if it's taking too long or too quickly\n",
    "\n",
    "# Starting with basic multitasking which utilizes all CPU cores:\n",
    "starttime=time.time()\n",
    "list=[] # Must be defined outside of task\n",
    "newlist=[] # It is possible to make these the same name to avoid confusion\n",
    "def task(arg): # I like using arg instead of i since sometimes there could be loops inside of this task\n",
    "    list=(1+arg**arg) # Equation goes here, normally would be newlist.append(equation) in a regular loop as above\n",
    "    return list\n",
    "if __name__=='__main__':\n",
    "    with Pool() as pool:\n",
    "        for result in pool.map(task,range(calculations)): # Range of inputs go here\n",
    "            newlist.append(result)\n",
    "print(newlist[0:10])\n",
    "print(type(newlist))\n",
    "print(time.time()-starttime,'seconds to complete')\n",
    "\n",
    "# Now using the GPU:\n",
    "starttime=time.time()\n",
    "list=[]\n",
    "newlist=[]\n",
    "@jit(target_backend='cuda') # <<< This is the only change necessary\n",
    "def task(arg):\n",
    "    list=(1+arg**arg)\n",
    "    return list\n",
    "if __name__=='__main__':\n",
    "    with Pool() as pool:\n",
    "        for result in pool.map(task,range(calculations)):\n",
    "            newlist.append(result)\n",
    "print(newlist[0:10])\n",
    "print(type(newlist))\n",
    "print(time.time()-starttime,'seconds to complete')\n",
    "\n",
    "# There are also other possible ways to speed this up like the following, try each out and compare on the # of calculations, also depends on type of calculation!\n",
    "starttime=time.time()\n",
    "list=[]\n",
    "newlist=[]\n",
    "@numba.njit # <<< This is again the only change necessary\n",
    "def task(arg):\n",
    "    list=(1+arg**arg)\n",
    "    return list\n",
    "if __name__=='__main__':\n",
    "    with Pool() as pool:\n",
    "        for result in pool.map(task,range(calculations)):\n",
    "            newlist.append(result)\n",
    "print(newlist[0:10])\n",
    "print(type(newlist))\n",
    "print(time.time()-starttime,'seconds to complete')\n",
    "\n",
    "starttime=time.time()\n",
    "list=[]\n",
    "newlist=[]\n",
    "@njit # <<< This is again the only change necessary\n",
    "def task(arg):\n",
    "    list=(1+arg**arg)\n",
    "    return list\n",
    "if __name__=='__main__':\n",
    "    with Pool() as pool:\n",
    "        for result in pool.map(task,range(calculations)):\n",
    "            newlist.append(result)\n",
    "print(newlist[0:10])\n",
    "print(type(newlist))\n",
    "print(time.time()-starttime,'seconds to complete')"
   ]
  }
 ],
 "metadata": {
  "kernelspec": {
   "display_name": "Python 3 (ipykernel)",
   "language": "python",
   "name": "python3"
  },
  "language_info": {
   "codemirror_mode": {
    "name": "ipython",
    "version": 3
   },
   "file_extension": ".py",
   "mimetype": "text/x-python",
   "name": "python",
   "nbconvert_exporter": "python",
   "pygments_lexer": "ipython3",
   "version": "3.10.12"
  }
 },
 "nbformat": 4,
 "nbformat_minor": 5
}
